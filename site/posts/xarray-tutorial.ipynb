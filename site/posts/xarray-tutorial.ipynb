{
 "cells": [
  {
   "cell_type": "markdown",
   "id": "guilty-summary",
   "metadata": {},
   "source": [
    "The NCAR/UCAR virtual Python Tutorial Seminar Series continues with a 2-part introduction to the Python package `xarray` on **Wednesday, June 9th** and **June 23rd at 1 PM Mountain Daylight Time**. These sessions will be led by Anderson Banihirwe.\n",
    "\n",
    "The content for this tutorial is hosted on Anderson's [Xarray Tutorial Github Repository](https://github.com/andersy005/xarray-tutorial). However, since final edits are being made to these notebooks we ask that you please wait until after 1 PM MDT on June 8 to download the materials (the Tuesday before the first session). This will ensure that you have the latest version of the notebooks.\n",
    "\n",
    "## Preparation\n",
    "\n",
    "- Check your conda install if this is the first tutorial in the series you are joining us for with `conda --version` and if necessary [install by following these instructions](https://docs.conda.io/en/latest/miniconda.html).\n",
    "\n",
    "<!-- TEASER_END -->\n",
    "\n",
    "- Navigate to Anderson's [Xarray Tutorial Github Repository](https://github.com/andersy005/xarray-tutorial).\n",
    "\n",
    "- Clone this repository by clicking the green \"Code\" button and copying the SSH address under the word \"Clone\". This can be done by clicking the clipboard icon.\n",
    "\n",
    "- In your terminal, type `git clone PASTE` where you paste the SSH address you just copied (`git clone git@github.com:andersy005/xarray-tutorial.git`)\n",
    "\n",
    "- Create a Conda environment from the `binder/environment.yml` file with the terminal by first moving into the `xarray-tutorial` directory with `cd xarray-tutorial` and then typing `conda env update --file binder/environment.yml`\n",
    "\n",
    "- Activate your environment in the terminal with `conda activate xarray-tutorial`. \n",
    "\n",
    "- Test your installation by launching JupyterLab with `jupyter lab`.\n",
    "\n",
    "## Sign Up\n",
    "\n",
    "If you would like join the *learnpython@ucar.edu* Google group to be informed of updates and events in the seminar series, please do so by following this [link](https://groups.google.com/a/ucar.edu/g/learnpython/about) and clicking \"Join Group\" next to the group name.\n",
    "\n",
    "<iframe src=\"https://calendar.google.com/calendar/embed?src=c_krmtmqm6kb5u7ke6t5on9l0rus%40group.calendar.google.com\" style=\"border: 0\" width=\"800\" height=\"600\" frameborder=\"0\" scrolling=\"no\"></iframe>"
   ]
  }
 ],
 "metadata": {
  "kernelspec": {
   "display_name": "Python 3",
   "env": {},
   "interrupt_mode": "signal",
   "language": "python",
   "metadata": {},
   "name": "python3"
  },
  "nikola": {
   "author": "Julia Kent",
   "category": "",
   "date": "2021-06-04 10:02:54 UTC-06:00",
   "description": "",
   "link": "",
   "slug": "xarray-tutorial",
   "tags": "",
   "title": "Xarray Tutorial",
   "type": "text"
  }
 },
 "nbformat": 4,
 "nbformat_minor": 5
}
