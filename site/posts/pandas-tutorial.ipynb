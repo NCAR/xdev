{
 "cells": [
  {
   "cell_type": "markdown",
   "id": "sufficient-document",
   "metadata": {},
   "source": [
    "The NCAR/UCAR virtual Python Tutorial Seminar Series continues with an introduction to the Python package `pandas` on **Wednesday, May 26th at 1 PM Mountain**. This session will be led by Drew Camron and Max Grover.\n",
    "\n",
    "The content for this tutorial is hosted on Max's [NCAR Pandas Tutorial Github Repository](https://github.com/mgrover1/ncar_pandas_tutorial)\n",
    "\n",
    "## Preparation\n",
    "\n",
    "- Check your conda install if this is the first tutorial in the series you are joining us for with `conda --version` and if necessary [install by following these instructions](https://docs.conda.io/en/latest/miniconda.html).\n",
    "\n",
    "<!-- TEASER_END -->\n",
    "\n",
    "- Navigate to Max's [NCAR Pandas Tutorial Github Repository](https://github.com/mgrover1/ncar_pandas_tutorial).\n",
    "\n",
    "- Clone this repository by clicking the green \"Code\" button and copying the SSH address under the word \"Clone\". This can be done by clicking the clipboard icon.\n",
    "\n",
    "- In your terminal, type `git clone PASTE` where you paste the SSH address you just copied (`git clone git@github.com:mgrover1/ncar_pandas_tutorial.git`)\n",
    "\n",
    "- Create a Conda environment from the `environment.yml` file with the terminal command `conda env create -f environment.yml`. Make sure you are in the local `ncar_pandas_tutorial` directory for this step.\n",
    "\n",
    "- Test your installation in the terminal with `conda activate ncar_pandas_tutorial`. \n",
    "\n",
    "## Sign Up\n",
    "\n",
    "If you would like join the *learnpython@ucar.edu* Google group to be informed of updates and events in the seminar series, please do so by following this [link](https://groups.google.com/a/ucar.edu/g/learnpython/about) and clicking \"Join Group\" next to the group name.\n",
    "\n",
    "<iframe src=\"https://calendar.google.com/calendar/embed?src=c_krmtmqm6kb5u7ke6t5on9l0rus%40group.calendar.google.com\" style=\"border: 0\" width=\"800\" height=\"600\" frameborder=\"0\" scrolling=\"no\"></iframe>"
   ]
  }
 ],
 "metadata": {
  "kernelspec": {
   "display_name": "Python 3",
   "env": {},
   "interrupt_mode": "signal",
   "language": "python",
   "metadata": {},
   "name": "python3"
  },
  "nikola": {
   "author": "Julia Kent",
   "category": "",
   "date": "2021-05-19 13:16:51 UTC-06:00",
   "description": "",
   "link": "",
   "slug": "pandas-tutorial",
   "tags": "",
   "title": "Pandas Tutorial",
   "type": "text"
  }
 },
 "nbformat": 4,
 "nbformat_minor": 5
}
