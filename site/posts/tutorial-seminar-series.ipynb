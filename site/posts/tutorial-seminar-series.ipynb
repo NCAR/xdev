{
 "cells": [
  {
   "cell_type": "markdown",
   "metadata": {},
   "source": [
    "Because we are unable to host an in-person tutorial for this fall season, the Xdev team has decided to switch to a virtual seminar series. We will be hosting one hour tutorial sessions scheduled for the 2nd and 4th Wednesdays of each month at 1 PM starting in October. The first tutorial session, covering how to create your first Python script, will be on October 14th. Some tutorials will be 1-off seminars on specific topics, while others will span multiple seminar sessions.\n",
    "\n",
    "Remote tutorials offer their own challenges; no one from our team can walk around the room to notice if anyone needs technical help or one-on-one assistance during a challenging topic. We believe that one hour sessions make it easier for participants to reach out and get the help they need to catch up before the next session of a multi-part seminar, so that we can more effectively reach our education goals.\n",
    "\n",
    "## Calendar\n",
    "All events are at 1 PM MT\n",
    "\n",
    "**October 14** --  “Your First Python Script - Reading in a .txt File\"\n",
    "\n",
    "**October 28** -- “Your First Python Script - Creating a Data Directory\"\n",
    "\n",
    "**November 11** -- “Your First Python Script - Writing Functions\"\n",
    "\n",
    "**November 25** -- “Your First Python Package”\n",
    "\n",
    "**January 27** -- \"Your First Python Package\" \n",
    "(repeat/make up)\n",
    "\n",
    "**February 10** -- TBD\n",
    "\n",
    "\n",
    "## Sign Up\n",
    "\n",
    "If you would like to be informed of updates and events in the semar series, please let us know by filling out this [Google Form](https://docs.google.com/forms/d/e/1FAIpQLScf8ITDrDW9lFL_Y34cSRBPR_9FBWb-jfmPyUL0EXWUgASOJw/viewform?usp=sf_link)\n",
    "\n"
   ]
  }
 ],
 "metadata": {
  "kernelspec": {
   "display_name": "Python 3",
   "env": {},
   "interrupt_mode": "signal",
   "language": "python",
   "metadata": {},
   "name": "python3"
  },
  "nikola": {
   "author": "Julia Kent",
   "category": "",
   "date": "2020-09-18 12:41:28 UTC-06:00",
   "description": "",
   "link": "",
   "slug": "tutorial-seminar-series",
   "tags": "",
   "title": "Tutorial Seminar Series",
   "type": "text"
  }
 },
 "nbformat": 4,
 "nbformat_minor": 2
}