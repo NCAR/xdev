{
 "cells": [
  {
   "cell_type": "markdown",
   "metadata": {},
   "source": [
    "Write your post here."
   ]
  }
 ],
 "metadata": {
  "kernelspec": {
   "display_name": "Python 3",
   "env": {},
   "interrupt_mode": "signal",
   "language": "python",
   "metadata": {},
   "name": "python3"
  },
  "nikola": {
   "author": "Julia Kent",
   "category": "",
   "date": "2020-09-18 12:41:28 UTC-06:00",
   "description": "",
   "link": "",
   "slug": "tutorial-seminar-series",
   "tags": "",
   "title": "Tutorial Seminar Series",
   "type": "text"
  }
 },
 "nbformat": 4,
 "nbformat_minor": 2
}
