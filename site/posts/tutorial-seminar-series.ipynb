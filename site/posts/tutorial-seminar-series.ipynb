{
 "cells": [
  {
   "cell_type": "markdown",
   "metadata": {},
   "source": [
    "Because we are unable to host an in-person tutorial for this fall season, the Xdev team has decided to switch to a virtual seminar series. We will be hosting one hour tutorial sessions scheduled for the 2nd and 4th Wednesdays of each month at 1 PM Mountain starting in October. The first tutorial session, covering how to create your first Python script, will be on October 14th. Some tutorials will be 1-off seminars on specific topics, while others will span multiple seminar sessions.\n",
    "<!-- TEASER_END -->\n",
    "Remote tutorials offer their own challenges; no one from our team can walk around the room to notice if anyone needs technical help or one-on-one assistance during a challenging topic. We believe that one hour sessions make it easier for participants to reach out and get the help they need to catch up before the next session of a multi-part seminar, so that we can more effectively reach our education goals.\n",
    "\n",
    "We will begin by following through the [Xdev tutorial website](https://ncar.github.io/python-tutorial/), designed to introduce Python to scientists who already have a good deal of programming experience, albeit with a different language. If you are tired of reading tutorials that waste your time with things you already know about programming, or you are tired of tutorials that leap into advanced third-party packages without explaining why Python is unique, then this is the tutorial is for you!\n",
    "\n",
    "## Calendar So Far\n",
    "All events are at 1 PM MT\n",
    "\n",
    "__October 14__ --  [Your First Python Script - Reading in a .txt File](https://ncar.github.io/python-tutorial/tutorials/beginner.html#reading-a-txt-file) <br>\n",
    "We will set up our workspace, read a .txt data file, and learn Git fundamentals.\n",
    "\n",
    "__October 28__ -- [Your First Python Script - Creating a Data Dictionary](https://ncar.github.io/python-tutorial/tutorials/beginner.html#creating-a-data-dictionary) <br>\n",
    "We will use Python for-loops and to manipulate our data into a useful structure - the Python dictionary.\n",
    "\n",
    "__November 11__ -- [Your First Python Script - Writing Functions](https://ncar.github.io/python-tutorial/tutorials/beginner.html#writing-functions) <br>\n",
    "We will use basic math operators to compute Wind Chill Index on our sample data within a Python function.\n",
    "\n",
    "__November 25__ -- Your First Python Package<br>\n",
    "We will introduce separating your analysis functions into a separate module to clean up your workflow.\n",
    "\n",
    "__January 27__ -- Your First Python Package<br>\n",
    "(repeat/make up after the conference and holiday season)\n",
    "\n",
    "**February 10** and beyond -- TBD\n",
    "\n",
    "\n",
    "## Sign Up\n",
    "\n",
    "If you would like to be informed of updates and events in the semar series, please let us know by filling out this [Google Form](https://docs.google.com/forms/d/e/1FAIpQLScf8ITDrDW9lFL_Y34cSRBPR_9FBWb-jfmPyUL0EXWUgASOJw/viewform?usp=sf_link)\n",
    "\n"
   ]
  }
 ],
 "metadata": {
  "kernelspec": {
   "display_name": "Python 3",
   "env": {},
   "interrupt_mode": "signal",
   "language": "python",
   "metadata": {},
   "name": "python3"
  },
  "nikola": {
   "author": "Julia Kent",
   "category": "",
   "date": "2020-09-18 12:41:28 UTC-06:00",
   "description": "",
   "link": "",
   "slug": "tutorial-seminar-series",
   "tags": "",
   "title": "Tutorial Seminar Series",
   "type": "text"
  }
 },
 "nbformat": 4,
 "nbformat_minor": 2
}
