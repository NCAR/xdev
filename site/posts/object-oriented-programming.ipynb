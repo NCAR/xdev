{
 "cells": [
  {
   "cell_type": "markdown",
   "id": "wicked-highland",
   "metadata": {},
   "source": [
    "Write your post here."
   ]
  }
 ],
 "metadata": {
  "kernelspec": {
   "display_name": "Python 3",
   "env": {},
   "interrupt_mode": "signal",
   "language": "python",
   "metadata": {},
   "name": "python3"
  },
  "nikola": {
   "author": "Julia Kent",
   "category": "",
   "date": "2021-04-09 08:43:36 UTC-06:00",
   "description": "",
   "link": "",
   "slug": "object-oriented-programming",
   "tags": "",
   "title": "Object Oriented Programming",
   "type": "text"
  }
 },
 "nbformat": 4,
 "nbformat_minor": 5
}
