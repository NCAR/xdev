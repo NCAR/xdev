{
 "cells": [
  {
   "cell_type": "markdown",
   "metadata": {},
   "source": [
    "The \"Your First\" Python Tutorial Series is over, but the tutorial seminar series continues.\n",
    "\n",
    "Please join us the following dates:\n",
    "\n",
    "_February 24, 2021_ -  Jupyter Notebooks <br>\n",
    "An introduction to Jupyter Notebooks that will be fundamental for following many subsequent tutorials.\n",
    "<!-- TEASER_END -->\n",
    "\n",
    "_March 10, 2021_ - Numpy <br>\n",
    "An introduction to essential Numpy functionality.\n",
    "\n",
    "_March 24, 2021_ - Matplotlib <br>\n",
    "Learn basic plotting and data visualization techniques using the Matplotlib package.\n",
    "\n",
    "_April 14, 2021_ - Object Oriented Programming <br>\n",
    "An introduction to Python \"objects\" such as classes.\n",
    "\n",
    "_April 28, 2021_ - Cartopy <br>\n",
    "Improve your data visualization by plotting geoscience data onto maps with the Cartopy package.\n",
    "\n",
    "_May 19, 2021_ - Git and GitHub <br>\n",
    "Learn more advanced Git commands and how to solve common Git errors.\n",
    "\n",
    "_May 26, 2021_ - GeoCat-Viz <br>\n",
    "Learn to use the specific plotting functionality developed by NCAR's GeoCAT team (geocat-viz).\n",
    "\n",
    "More dates TBA\n",
    "\n",
    "## Sign Up\n",
    "\n",
    "If you would like join the *learnpython@ucar.edu* listserv to be informed of updates and events in the semar series, please let us know by filling out this [Google Form](https://forms.gle/7PpZ5uuUNzsfB27P9)."
   ]
  },
  {
   "cell_type": "code",
   "execution_count": null,
   "metadata": {},
   "outputs": [],
   "source": []
  }
 ],
 "metadata": {
  "kernelspec": {
   "display_name": "Python 3",
   "env": {},
   "interrupt_mode": "signal",
   "language": "python",
   "metadata": {},
   "name": "python3"
  },
  "nikola": {
   "author": "Julia Kent",
   "category": "",
   "date": "2021-02-16 13:56:01 UTC-07:00",
   "description": "",
   "link": "",
   "slug": "python-tutorial-seminar-series-spring-2021",
   "tags": "",
   "title": "Python Tutorial Seminar Series - Spring 2021",
   "type": "text"
  }
 },
 "nbformat": 4,
 "nbformat_minor": 4
}
