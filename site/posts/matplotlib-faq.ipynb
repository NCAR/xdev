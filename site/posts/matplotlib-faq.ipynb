{
 "cells": [
  {
   "cell_type": "markdown",
   "id": "shaped-helen",
   "metadata": {},
   "source": [
    "Write your post here."
   ]
  }
 ],
 "metadata": {
  "kernelspec": {
   "display_name": "Python 3",
   "env": {},
   "interrupt_mode": "signal",
   "language": "python",
   "metadata": {},
   "name": "python3"
  },
  "nikola": {
   "author": "Julia Kent",
   "category": "",
   "date": "2021-03-30 08:26:01 UTC-06:00",
   "description": "",
   "link": "",
   "slug": "matplotlib-faq",
   "tags": "",
   "title": "Matplotlib FAQ",
   "type": "text"
  }
 },
 "nbformat": 4,
 "nbformat_minor": 5
}
