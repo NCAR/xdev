{
 "cells": [
  {
   "cell_type": "markdown",
   "metadata": {},
   "source": [
    "### Climate Models Use Different Calendars\n",
    "\n",
    "\n",
    "Climate models can differ in their representation of the annual cycle.  While some climate models choose to follow the modern-day calendar with a Leap Day added every four years, other simulations choose instead to model every year has having exactly 365 days.   Still other climate models choose to make even stronger simplifying assumptions, such as months having equal duration.   For example, the HadGem Global Climate Model represents a year as having 12 months with 30 days each, for a calendar with 360 days a year.  \n",
    "\n",
    "However, calendar differences can complicate the inter-comparison of climate model data.   What is the right way to compare data from a 365-day calendar against data from a 360-day calendar?   Generally, the answer depends on the specific details of the comparison.  But in cases where aggregate statistics are calculated, such as monthly temperature anomalies, a common approach is to *align* different calendars with each other.  Once this is done, it can be much easier to compare data across simulations. \n",
    "\n",
    "\n"
   ]
  },
  {
   "cell_type": "markdown",
   "metadata": {},
   "source": [
    "### Simple Calendar Conversion Using xarray\n",
    "In some cases, calendars are similar enough that alignment is relatively straightforward.   For example, when aligning a calendar that takes into account Leap Years with a calendar that does not, one must either remove Feb.29 from the Leap year calendar, losing one day's worth of data every four years, or inserting a \"missing day\" of Feb. 29 into the \"No Leap Year\" calendar.  \n"
   ]
  },
  {
   "cell_type": "code",
   "execution_count": null,
   "metadata": {},
   "outputs": [],
   "source": []
  },
  {
   "cell_type": "markdown",
   "metadata": {},
   "source": [
    "### Simple Conversion Is Not Always Possible\n"
   ]
  },
  {
   "cell_type": "code",
   "execution_count": null,
   "metadata": {},
   "outputs": [],
   "source": [
    "ds[\"time\"] = ds.indexes[\"time\"].to_datetimeindex()\n"
   ]
  },
  {
   "cell_type": "code",
   "execution_count": null,
   "metadata": {},
   "outputs": [],
   "source": []
  },
  {
   "cell_type": "markdown",
   "metadata": {},
   "source": [
    "## Custom Calendar Conversion:  When You Want Something Special\n"
   ]
  },
  {
   "cell_type": "code",
   "execution_count": null,
   "metadata": {},
   "outputs": [],
   "source": [
    "import xarray as xr\n",
    "import numpy as np\n",
    "import pandas as pd\n",
    "\n",
    "import cftime\n",
    "from datetime import date"
   ]
  },
  {
   "cell_type": "code",
   "execution_count": null,
   "metadata": {},
   "outputs": [],
   "source": [
    "filePath = '/glade/collections/cdg/data/cordex/data/raw/NAM-22i/day/RegCM4/HadGEM2-ES/hist/tasmax/tasmax.hist.HadGEM2-ES.RegCM4.day.NAM-22i.raw.nc'\n",
    "ds = xr.open_dataset(filePath)\n",
    "ds"
   ]
  },
  {
   "cell_type": "code",
   "execution_count": 2,
   "metadata": {},
   "outputs": [],
   "source": []
  },
  {
   "cell_type": "code",
   "execution_count": null,
   "metadata": {},
   "outputs": [],
   "source": [
    "## Create a small slice with the full time axis for local testing. \n",
    "\n",
    "#subset = ds.isel(lat=0, lon=0)\n",
    "#subset\n",
    "#subset.to_netcdf('/glade/u/home/bonnland/cal360_data.nc')"
   ]
  },
  {
   "cell_type": "markdown",
   "metadata": {},
   "source": [
    "First, I define a custom function that returns an array of dates from the 365-day calendar, one date for each day of year on the 360-day calendar.  "
   ]
  },
  {
   "cell_type": "code",
   "execution_count": null,
   "metadata": {},
   "outputs": [],
   "source": [
    "def get_datemap_360_to_noleap():\n",
    "    ''' Return an array of dates mapping days from the 360-Day calendar to the No-Leap calendar. '''\n",
    "\n",
    "    # Choose any year with 365 days. \n",
    "    dummy_year = 1999\n",
    "\n",
    "    # These are the days of the year that will be missing on the time axis for each year. \n",
    "    # The goal is to spread missing dates out evenly over each year.\n",
    "    #\n",
    "    # Modify specific dates as desired. \n",
    "    missing_dates = [date(dummy_year, 1, 31),\n",
    "                     date(dummy_year, 3, 31),\n",
    "                     date(dummy_year, 5, 31),\n",
    "                     date(dummy_year, 8, 31),\n",
    "                     date(dummy_year, 10, 31)]\n",
    "    \n",
    "    day_one = date(dummy_year, 1, 1)\n",
    "    missing_dates_indexes = [(day - day_one).days for day in missing_dates]    \n",
    "\n",
    "    datemap_indexes = np.setdiff1d(np.arange(365), missing_dates_indexes)\n",
    "    \n",
    "    dates = pd.date_range(f'1/1/{dummy_year}', f'12/31/{dummy_year}')\n",
    "    assert(len(dates) == 365)\n",
    "    \n",
    "    date_map = dates[datemap_indexes]\n",
    "    assert(len(date_map) == 360)\n",
    "    return date_map\n",
    "\n",
    "\n"
   ]
  },
  {
   "cell_type": "markdown",
   "metadata": {},
   "source": [
    "Then I create a function that takes a particular date object from the 360-day calendar and returns the corresponding date from the 365-day calendar using the datemap generated in the previous function."
   ]
  },
  {
   "cell_type": "code",
   "execution_count": null,
   "metadata": {},
   "outputs": [],
   "source": [
    "def convert_to_noleap(cftime360, datemap):\n",
    "    newdate = datemap[cftime360.dayofyr - 1]\n",
    "    converted = cftime.DatetimeNoLeap(year=cftime360.year, month=newdate.month, day=newdate.day)\n",
    "    return converted"
   ]
  },
  {
   "cell_type": "code",
   "execution_count": null,
   "metadata": {},
   "outputs": [],
   "source": []
  },
  {
   "cell_type": "code",
   "execution_count": null,
   "metadata": {},
   "outputs": [],
   "source": [
    "ds['time'] = [convert_to_noleap(t, datemap) for t in ds.time.values]\n",
    "ds"
   ]
  },
  {
   "cell_type": "code",
   "execution_count": null,
   "metadata": {},
   "outputs": [],
   "source": []
  },
  {
   "cell_type": "markdown",
   "metadata": {},
   "source": [
    "Different calendars are chosen for different reasons, which may include ease of later analysis, or simply programming convenience. The [NA-CORDEX Climate Dataset](https://na-cordex.org/dataset-description.html) is one example of a climate dataset where different calendar assumptions are made in different files.   A summary of calendar differences can be found [here](https://na-cordex.org/time-ranges-calendars.html)."
   ]
  },
  {
   "cell_type": "code",
   "execution_count": null,
   "metadata": {},
   "outputs": [],
   "source": []
  },
  {
   "cell_type": "code",
   "execution_count": null,
   "metadata": {},
   "outputs": [],
   "source": []
  }
 ],
 "metadata": {
  "kernelspec": {
   "display_name": "Python 3",
   "language": "python",
   "name": "python3"
  },
  "language_info": {
   "codemirror_mode": {
    "name": "ipython",
    "version": 3
   },
   "file_extension": ".py",
   "mimetype": "text/x-python",
   "name": "python",
   "nbconvert_exporter": "python",
   "pygments_lexer": "ipython3",
   "version": "3.7.3"
  },
  "nikola": {
   "author": "Brian Bonnlander",
   "category": "",
   "date": "2020-07-23 16:27:38 UTC-06:00",
   "description": "Sometimes a custom aproach to calendar conversion is required for climate data.  This post shows one example of how to do this for a 360-day calendar.",
   "link": "",
   "slug": "calendar-conversion-in-xarray",
   "tags": "xarray, cftime",
   "title": "Calendar Conversion in xarray",
   "type": "text"
  }
 },
 "nbformat": 4,
 "nbformat_minor": 4
}
