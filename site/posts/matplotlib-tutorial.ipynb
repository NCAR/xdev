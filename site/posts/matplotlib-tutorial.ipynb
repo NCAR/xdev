{
 "cells": [
  {
   "cell_type": "markdown",
   "metadata": {},
   "source": [
    "The NCAR/UCAR virtual Python Tutorial Seminar Series continues with an introduction to the Python package `numpy` on **Wednesday, March 10th at 1 PM Mountain**. This session will be led by Austin Kootz.\n",
    "\n",
    "## Preparation\n",
    "\n",
    "1. Check your conda install if this is the first tutorial in the series you are joining us for with `conda --version` and if necessary [install by following these instructions](https://docs.conda.io/en/latest/miniconda.html)\n",
    "2. Activate your tutorial environment from the last session on Jupyter notebooks with `conda activate jupyter_tutorial`\n",
    "3. Install `numpy` and `matplotlib` with `conda install numpy matplotlib`\n",
    "\n",
    "<!-- TEASER_END -->\n",
    "\n",
    "If you did not have a `jupyter_tutorial` environment (i.e. you did not attend the previous tutorial on Jupyter Notebooks), create one with all of the necessary packages for the session on `numpy` with `conda create --name jupyter_tutorial jupyterlab numpy matplotlib`\n",
    "\n",
    "You can watch the recording from the live tutorial on Jupyter Notebooks [here](https://youtu.be/xSzXvwzFsDU).\n",
    "\n",
    "## Sign Up\n",
    "\n",
    "If you would like join the *learnpython@ucar.edu* Google group to be informed of updates and events in the seminar series, please do so by following this [link](https://groups.google.com/a/ucar.edu/g/learnpython/about) and clicking \"Join Group\" next to the group name.\n",
    "\n",
    "<iframe src=\"https://calendar.google.com/calendar/embed?src=c_krmtmqm6kb5u7ke6t5on9l0rus%40group.calendar.google.com\" style=\"border: 0\" width=\"800\" height=\"600\" frameborder=\"0\" scrolling=\"no\"></iframe>"
   ]
  }
 ],
 "metadata": {
  "kernelspec": {
   "display_name": "Python 3",
   "env": {},
   "interrupt_mode": "signal",
   "language": "python",
   "metadata": {},
   "name": "python3"
  },
  "nikola": {
   "author": "Julia Kent",
   "category": "",
   "date": "2021-02-26 08:21:56 UTC-07:00",
   "description": "",
   "link": "",
   "slug": "numpy-tutorial",
   "tags": "",
   "title": "Numpy Tutorial",
   "type": "text"
  }
 },
 "nbformat": 4,
 "nbformat_minor": 4
}