{
 "cells": [
  {
   "cell_type": "markdown",
   "id": "printable-testing",
   "metadata": {},
   "source": [
    "Write your post here."
   ]
  }
 ],
 "metadata": {
  "kernelspec": {
   "display_name": "Python 3",
   "env": {},
   "interrupt_mode": "signal",
   "language": "python",
   "metadata": {},
   "name": "python3"
  },
  "nikola": {
   "author": "Julia Kent",
   "category": "",
   "date": "2021-03-19 14:23:39 UTC-06:00",
   "description": "",
   "link": "",
   "slug": "numpy-faq",
   "tags": "",
   "title": "Numpy FAQ",
   "type": "text"
  }
 },
 "nbformat": 4,
 "nbformat_minor": 5
}
