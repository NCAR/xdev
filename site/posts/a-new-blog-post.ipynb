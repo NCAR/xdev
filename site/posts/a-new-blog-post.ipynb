{
 "cells": [
  {
   "cell_type": "markdown",
   "metadata": {},
   "source": [
    "# This is my notebook"
   ]
  },
  {
   "cell_type": "code",
   "execution_count": 1,
   "metadata": {},
   "outputs": [
    {
     "name": "stdout",
     "output_type": "stream",
     "text": [
      "5\n"
     ]
    }
   ],
   "source": [
    "x = 5\n",
    "print(x)"
   ]
  }
 ],
 "metadata": {
  "kernelspec": {
   "display_name": "Python 3",
   "language": "python",
   "name": "python3"
  },
  "language_info": {
   "codemirror_mode": {
    "name": "ipython",
    "version": 3
   },
   "file_extension": ".py",
   "mimetype": "text/x-python",
   "name": "python",
   "nbconvert_exporter": "python",
   "pygments_lexer": "ipython3",
   "version": "3.7.3"
  },
  "nikola": {
   "author": "Kevin Paul",
   "category": "",
   "date": "2019-07-22 13:28:07 UTC-06:00",
   "description": "",
   "link": "",
   "slug": "a-new-blog-post",
   "tags": "",
   "title": "A New Blog Post",
   "type": "text"
  }
 },
 "nbformat": 4,
 "nbformat_minor": 2
}
