{
 "cells": [
  {
   "cell_type": "markdown",
   "metadata": {},
   "source": [
    "Here is a compilation of questions and issues that arose during the second session of the Python Tutorial Seminar Series, on creating a data dictionary. After this first short series, these FAQ sections will be added to the [Xdev tutorial website](https://ncar.github.io/python-tutorial/)\n",
    "\n",
    "------"
   ]
  },
  {
   "source": [
    "**Q.** Why is `list[0:10]` the first 10 elements, not 11?\n",
    "\n",
    "**A.** In Python, \"list slicing\" uses square brackets with the syntax `[start:stop:step]`.  The `start` is *inclusive*, while the `step` is *exclusive*.  So, you read up to (but excluding) the `stop` index.\n",
    "\n",
    "-----\n",
    "<!-- TEASER_END -->"
   ],
   "cell_type": "markdown",
   "metadata": {}
  },
  {
   "source": [
    "**Q.** Why do we not say `list[1,10]` to return the first 10 elements?\n",
    "\n",
    "**A.** Python is 0-indexed, so index of 1 actually refers to the second element. Say our list was `[0, 1, 2, 3, 4, 5, 6, 7, 8, 9, 10, 11]`, then `list[1,10]` would return `[1, 2, 3, 4, 5, 6, 7, 8, 9]` (which is missing the first element) and `list[0,10]` returns the desired `[0, 1, 2, 3, 4, 5, 6, 7, 8, 9]` (Also, see the answer to the previous question).\n",
    "\n",
    "-----"
   ],
   "cell_type": "markdown",
   "metadata": {}
  },
  {
   "source": [
    "**Q.** So `list[0:1]` is just one value, same as `list[0]`? \n",
    "\n",
    "**A.** Actually not. `list[0:1]` returns a list, due to the slice indexing, with a value of `[0]`, whereas `list[0]` returns the 0th element, and has a value of `0`. Notice the square brackets or their absence!\n",
    "\n",
    "-----"
   ],
   "cell_type": "markdown",
   "metadata": {}
  },
  {
   "source": [
    "**Q.** How do you read only the 1st, 4rd, 7th, 10th, . . . rows of a data?\n",
    "\n",
    "**A.** Using `list[::3]`\n",
    "\n",
    "------"
   ],
   "cell_type": "markdown",
   "metadata": {}
  },
  {
   "source": [
    "**Q.** Could you clarify how this part works again:\n",
    "```\n",
    "# Read the first three lines (header)\n",
    "for _ in range(3):\n",
    "    datafile.readline()\n",
    "```\n",
    "\n",
    "**A.** `range(3)` is an iterator; it is equivalent to using the list `[0,1,2]`.  Here we’re iterating over that 3-element list and using the value for each iteration as the value of the variable `_`.  (We need to define the variable `_` in order to iterate through the for-loop, but we never use it, which is why we just call it `_`.).  In every iteration, we call `datafile.readline()` which means we read 3 lines of text from the file *in total*, but since we aren’t saving those lines of text anywhere (i.e., in any variable) we are only reading and discarding them. (Note, anything that begins with an underscore is generally considered \"discardable\" by common practice, but there is no rule in Python about that.) This for-loop sets us up so the next `readline()` call is where the data values begin.\n",
    "\n",
    "------"
   ],
   "cell_type": "markdown",
   "metadata": {}
  },
  {
   "source": [
    "**Q.** Why is there no `end for` in a Python for-loop?\\n\",\n",
    "\n",
    "**A.** Python is sensitive to white space. Anything indented after the `for` statement is part of the for-block, everything else after that is after the for-loop has completed. There is no extra information that an `end for` line would be needed to convey.\n",
    "\n",
    "------"
   ],
   "cell_type": "markdown",
   "metadata": {}
  },
  {
   "source": [
    "**Q.** Why do we initialize data as an empty list with `data = []`?\n",
    "\n",
    "**A.** If we want to use the `append` function to add elements to our list, the object to which we’re adding elements to has to be an *existing* (i.e., initialized) list.\n",
    "    \n",
    "------"
   ],
   "cell_type": "markdown",
   "metadata": {}
  },
  {
   "source": [
    "**Q.** Why do you refer to the data dictionary elements using `[]` when it is not a list?\n",
    "\n",
    "**A.** Square brackets, `[]`, are used in Python to *declare a list* and to *get an item*.  In the \"get item\" usage, the square brackets must be preceded by the name of the variable from which the item is being retrieved.  In the list declaration usage, the square brackets must exist *alone* (i.e., no variable name preceding it).  For example, `x[0]` means \"get element `0` from `x`\" and `[0]` (i.e., without the `x` in front) means \"create a list containing the element `0`\".  The \"declare a list\" syntax is obviously *only* for creating a list, but the \"get item\" syntax can be used with *any container* (i.e., lists, dictionaries, sets, etc.).  (**NOTE:** Slice notation, namely `x[start:stop:step]`, only works on lists, and it does not work with dictionaries or sets!)\n",
    "\n",
    "------"
   ],
   "cell_type": "markdown",
   "metadata": {}
  },
  {
   "source": [
    "**Q.** How do you print a single element from a variable, like `tempout`, from the data dictionary?\n",
    "\n",
    "**A.** `data['tempout'][9]`\n",
    "\n",
    "------"
   ],
   "cell_type": "markdown",
   "metadata": {}
  },
  {
   "source": [
    "**Q.** Could you explain more about function pointers?\n",
    "\n",
    "**A.** Everything in Python is an object. You may be used to passing around variables by reference or value. In Python you can also pass around a function without calling it. In this session we passed in `float` which is a class of objects - and can also be used like a function. We stored the name of the function in the types dictionary so that we could use the function later on in the code.\n",
    "\n",
    "------"
   ],
   "cell_type": "markdown",
   "metadata": {}
  },
  {
   "source": [],
   "cell_type": "markdown",
   "metadata": {}
  }
 ],
 "metadata": {
  "kernelspec": {
   "display_name": "Python 3",
   "env": {},
   "interrupt_mode": "signal",
   "language": "python",
   "metadata": {},
   "name": "python3"
  },
  "nikola": {
   "author": "Julia Kent",
   "category": "",
   "date": "2020-11-05 11:19:51 UTC-07:00",
   "description": "",
   "link": "",
   "slug": "python-tutorial-faq-part-2",
   "tags": "",
   "title": "Python Tutorial FAQ - Part 2",
   "type": "text"
  }
 },
 "nbformat": 4,
 "nbformat_minor": 4
}