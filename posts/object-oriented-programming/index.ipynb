{
 "cells": [
  {
   "cell_type": "markdown",
   "id": "wicked-highland",
   "metadata": {},
   "source": [
    "The NCAR/UCAR virtual Python Tutorial Seminar Series continues with an introduction to Object Oriented Programming on **Wednesday, April 14th at 1 PM Mountain**. This session will be led by Austin Kootz.\n",
    "\n",
    "The content for this tutorial is hosted on Austin's [oop_hrrr_tutorial GitHub repository](https://github.com/pilotchute/oop_hrrr_tutorial).\n",
    "\n",
    "## Preparation\n",
    "\n",
    "- Check your conda install if this is the first tutorial in the series you are joining us for with `conda --version` and if necessary [install by following these instructions](https://docs.conda.io/en/latest/miniconda.html).\n",
    "\n",
    "<!-- TEASER_END -->\n",
    "\n",
    "*These commands are to be run in the terminal*\n",
    "\n",
    "- Clone the GitHub repository locally with:\n",
    "`git clone https://github.com/pilotchute/oop_hrrr_tutorial`.\n",
    "\n",
    "- Move into your new directory with:\n",
    "`cd oop_hrrr_tutorial`\n",
    "\n",
    "- There is a file called `environment.yml` that lists all of the necessary packages for this session. Create a conda environment from this file with:\n",
    "`conda env create -f environment.yml`\n",
    "\n",
    "- Avtivate the environment:\n",
    "`conda activate oop_tutorial`\n",
    "\n",
    "- And test that it runs correctly by launching Jupyter:\n",
    "`jupyter lab`\n",
    "\n",
    "If you did not attend the live session, it will beneficial to watch the recording from the live tutorial on [Jupyter Notebooks](https://youtu.be/xSzXvwzFsDU) before the Object Oriented Programming session.\n",
    "\n",
    "## Sign Up\n",
    "\n",
    "If you would like join the *learnpython@ucar.edu* Google group to be informed of updates and events in the seminar series, please do so by following this [link](https://groups.google.com/a/ucar.edu/g/learnpython/about) and clicking \"Join Group\" next to the group name.\n",
    "\n",
    "<iframe src=\"https://calendar.google.com/calendar/embed?src=c_krmtmqm6kb5u7ke6t5on9l0rus%40group.calendar.google.com\" style=\"border: 0\" width=\"800\" height=\"600\" frameborder=\"0\" scrolling=\"no\"></iframe>"
   ]
  }
 ],
 "metadata": {
  "kernelspec": {
   "display_name": "Python 3",
   "env": {},
   "interrupt_mode": "signal",
   "language": "python",
   "metadata": {},
   "name": "python3"
  },
  "nikola": {
   "author": "Julia Kent",
   "category": "",
   "date": "2021-04-09 08:43:36 UTC-06:00",
   "description": "",
   "link": "",
   "slug": "object-oriented-programming",
   "tags": "",
   "title": "Object Oriented Programming",
   "type": "text"
  }
 },
 "nbformat": 4,
 "nbformat_minor": 5
}
