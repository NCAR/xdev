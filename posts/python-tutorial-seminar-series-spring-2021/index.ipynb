{
 "cells": [
  {
   "cell_type": "markdown",
   "metadata": {},
   "source": [
    "The \"Your First\" Python Tutorial Series is over, but the tutorial seminar series continues.\n",
    "\n",
    "## Please join us (virtually) on the following dates:\n",
    "All events are at 1 PM Mountain\n",
    "\n",
    "_February 24, 2021_ -  Jupyter Notebooks <br>\n",
    "An introduction to Jupyter Notebooks that will be fundamental for following many subsequent tutorials.\n",
    "<!-- TEASER_END -->\n",
    "\n",
    "_March 10, 2021_ - Numpy <br>\n",
    "An introduction to essential Numpy functionality.\n",
    "\n",
    "_March 24, 2021_ - Matplotlib <br>\n",
    "Learn basic plotting and data visualization techniques using the Matplotlib package.\n",
    "\n",
    "_April 14, 2021_ - Object Oriented Programming <br>\n",
    "An introduction to Pyton \"objects\" such as classes.\n",
    "\n",
    "_April 28, 2021_ - Cartopy <br>\n",
    "Improve your data visualization by plotting geoscience data onto maps with the Cartopy package.\n",
    "\n",
    "_May 12, 2021_ - Git and GitHub <br>\n",
    "Learn more advanced Git commands and how to solve common Git errors.\n",
    "\n",
    "_May 26, 2021_ - GeoCat-Viz <br>\n",
    "Learn to use the specific plotting functionality developed by NCAR's GeoCAT team (geocat-viz).\n",
    "\n",
    "More dates TBA\n",
    "\n",
    "## Sign Up\n",
    "\n",
    "If you would like join the *learnpython@ucar.edu* Google group to be informed of updates and events in the seminar series, please do so by following this [link](https://groups.google.com/a/ucar.edu/g/learnpython/about) and clicking the \"Join group\" button next to the group name."
   ]
  },
  {
   "source": [
    "<iframe src=\"https://calendar.google.com/calendar/embed?src=c_krmtmqm6kb5u7ke6t5on9l0rus%40group.calendar.google.com\" style=\"border: 0\" width=\"800\" height=\"600\" frameborder=\"0\" scrolling=\"no\"></iframe>"
   ],
   "cell_type": "markdown",
   "metadata": {}
  }
 ],
 "metadata": {
  "kernelspec": {
   "display_name": "Python 3",
   "env": {},
   "interrupt_mode": "signal",
   "language": "python",
   "metadata": {},
   "name": "python3"
  },
  "nikola": {
   "author": "Julia Kent",
   "category": "",
   "date": "2021-02-16 13:56:01 UTC-07:00",
   "description": "",
   "link": "",
   "slug": "python-tutorial-seminar-series-spring-2021",
   "tags": "",
   "title": "Python Tutorial Seminar Series - Spring 2021",
   "type": "text"
  }
 },
 "nbformat": 4,
 "nbformat_minor": 4
}